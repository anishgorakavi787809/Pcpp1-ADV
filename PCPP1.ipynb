{
 "cells": [
  {
   "attachments": {},
   "cell_type": "markdown",
   "metadata": {},
   "source": [
    "This will create a timer class"
   ]
  },
  {
   "cell_type": "code",
   "execution_count": 1,
   "metadata": {},
   "outputs": [],
   "source": [
    "#This will start time class\n",
    "\n",
    "class Time:\n",
    "    def __init__(self,hour,minute,second) -> None:\n",
    "      \n",
    "        if len(list(filter(lambda x: type(x) == int,(hour,minute,second)))) != 3:\n",
    "            raise TypeError(\"You typed in wrong type\")\n",
    "        self.tot_sec = (hour * 3600) + (minute * 60) + second\n",
    "    def sec_to_hr_mn_sc(self,sec):\n",
    "        hr = sec // 3600\n",
    "        calc_secs = sec - hr * 3600\n",
    "        mins = calc_secs // 60\n",
    "        secs = calc_secs - mins * 60\n",
    "        return (hr,mins,secs)\n",
    "    def __str__(self) -> str:\n",
    "        hr,mins,secs = self.sec_to_hr_mn_sc(self.tot_sec)\n",
    "        return f\"{hr}:{mins}:{secs}\"\n",
    "    \n",
    "    def __add__(self,other_time):\n",
    "        if not isinstance(other_time,Time):\n",
    "            raise TypeError(\"You cannot Add or Subtract with anything other than a Time object\")\n",
    "        tot_sec = self.tot_sec + other_time.tot_sec\n",
    "        hh,mm,ss = self.sec_to_hr_mn_sc(tot_sec)\n",
    "        return Time(hh,mm,ss)\n",
    "    \n",
    "    def __sub__(self,other_time):\n",
    "        if not isinstance(other_time,Time):\n",
    "            raise TypeError(\"You cannot Add or Subtract with anything other than a Time object\")\n",
    "        tot_sec = self.tot_sec - other_time.tot_sec\n",
    "        hh,mm,ss = self.sec_to_hr_mn_sc(tot_sec)\n",
    "        return Time(hh,mm,ss)\n",
    "    \n",
    "    def __mul__(self,times):\n",
    "        hh,mm,ss = self.sec_to_hr_mn_sc(self.tot_sec)\n",
    "        return self.__add__(Time(hh,mm,ss))\n"
   ]
  },
  {
   "cell_type": "code",
   "execution_count": 2,
   "metadata": {},
   "outputs": [
    {
     "name": "stdout",
     "output_type": "stream",
     "text": [
      "Prints Properly Test Pass: ✅ as ex1: 21:58:50 == ex2: 21:58:50\n",
      "Multiplication Test Pass: ✅ as ex1: 43:57:40 == ex2: 43:57:40\n",
      "Subtraction Test Pass: ✅ as ex1: 20:13:28 == ex2: 20:13:28\n",
      "Addition Test Pass: ✅ as ex1: 23:44:12 == ex2: 23:44:12\n"
     ]
    }
   ],
   "source": [
    "#This does is to run tests for my function above\n",
    "\n",
    "\n",
    "def assert_is_eq(ex1,ex2,test_name):\n",
    "        try:\n",
    "            assert ex1 == ex2\n",
    "        except AssertionError:\n",
    "            print(f\"{test_name} Failed: ❌ as ex1: {ex1} != ex2: {ex2}\")\n",
    "        else:\n",
    "            print(f\"{test_name} Pass: ✅ as ex1: {ex1} == ex2: {ex2}\")\n",
    "\n",
    "fti = Time(21,58,50)\n",
    "fti_muld = fti*2\n",
    "\n",
    "assert_is_eq(fti.__str__(),\"21:58:50\",\"Prints Properly Test\")\n",
    "assert_is_eq(fti_muld.__str__(),\"43:57:40\",\"Multiplication Test\")\n",
    "assert_is_eq((fti - Time(1,45,22)).__str__(),\"20:13:28\",\"Subtraction Test\")\n",
    "assert_is_eq((fti + Time(1,45,22)).__str__(),\"23:44:12\",\"Addition Test\")"
   ]
  },
  {
   "cell_type": "code",
   "execution_count": null,
   "metadata": {},
   "outputs": [],
   "source": [
    "#Now I want to extend and add by secs\n",
    "\n",
    "class IncSecs(Time):\n",
    "    def __init__(self, hour, minute, second) -> None:\n",
    "        super().__init__(hour, minute, second)\n",
    "    \n",
    "    def __add__(self, sec):\n",
    "        return super().__add__(Time(0,0,sec))\n",
    "    def __sub__(self, sec):\n",
    "        return super().__sub__(Time(0,0,sec))"
   ]
  },
  {
   "cell_type": "code",
   "execution_count": 1,
   "metadata": {},
   "outputs": [
    {
     "name": "stdout",
     "output_type": "stream",
     "text": [
      "Printing from Fax\n",
      "Scanning from Scanner\n",
      "Sending from Fax\n"
     ]
    }
   ],
   "source": [
    "class Scanner:\n",
    "    def scan(self):\n",
    "        return \"Scanning from Scanner\"\n",
    "\n",
    "class Printer:\n",
    "   \n",
    "    def print(self):\n",
    "    \n",
    "         return \"Printing from Printer\"\n",
    "\n",
    "class Fax():\n",
    "    def __init__(self) -> None:\n",
    "        pass\n",
    "    def print(self):\n",
    "         return \"Printing from Fax\"\n",
    "    def send(self):\n",
    "        return \"Sending from Fax\"\n",
    "\n",
    "class MFD_SPF(Scanner,Fax,Printer):\n",
    "    def __init__(self) -> None:\n",
    "        print(super().print())\n",
    "        print(super().scan())\n",
    "        print(super().send())\n",
    "d = MFD_SPF()"
   ]
  },
  {
   "cell_type": "code",
   "execution_count": 64,
   "metadata": {},
   "outputs": [
    {
     "name": "stdout",
     "output_type": "stream",
     "text": [
      "Start: 2023-06-18 00:36:01\n",
      "End: 2023-06-18 00:36:01\n",
      "Hi\n"
     ]
    }
   ],
   "source": [
    "from datetime import datetime\n",
    "\n",
    "def check_runtime(function):\n",
    "    def timeit():\n",
    "        star = datetime.now()\n",
    "        print(star.strftime(\"Start: %Y-%m-%d %H:%M:%S\"))\n",
    "        d = function()\n",
    "        end = datetime.now()\n",
    "        print(end.strftime(\"End: %Y-%m-%d %H:%M:%S\"))\n",
    "        return d\n",
    "    return timeit\n",
    "        \n",
    "@check_runtime\n",
    "def hi():\n",
    "    return \"Hi\"\n",
    "print(hi())"
   ]
  },
  {
   "cell_type": "code",
   "execution_count": 5,
   "metadata": {},
   "outputs": [],
   "source": [
    "class LuxWatches:\n",
    "    watches_made = 0\n",
    "\n",
    "    def __init__(self) -> None:\n",
    "      \n",
    "        LuxWatches.watches_made += 1\n",
    "    @classmethod\n",
    "    def engrave_watch(cls,engrave:str):\n",
    "        cls()\n",
    "        engrave = engrave\n",
    "        return cls\n",
    "d = LuxWatches()\n",
    "e = LuxWatches.engrave_watch(\"Lambo\")\n",
    "\n"
   ]
  },
  {
   "cell_type": "code",
   "execution_count": 63,
   "metadata": {},
   "outputs": [
    {
     "data": {
      "text/plain": [
       "True"
      ]
     },
     "execution_count": 63,
     "metadata": {},
     "output_type": "execute_result"
    }
   ],
   "source": [
    "has_sub_string = lambda sub_string,full_string: sub_string in full_string\n",
    "\n",
    "\n",
    "print(has_sub_string())"
   ]
  },
  {
   "cell_type": "code",
   "execution_count": 114,
   "metadata": {},
   "outputs": [
    {
     "ename": "Can_Not_Change_Account_Number",
     "evalue": "As it is immutable (<string>)",
     "output_type": "error",
     "traceback": [
      "Traceback \u001b[0;36m(most recent call last)\u001b[0m:\n",
      "\u001b[0m  File \u001b[1;32m~/Library/Python/3.11/lib/python/site-packages/IPython/core/interactiveshell.py:3508\u001b[0m in \u001b[1;35mrun_code\u001b[0m\n    exec(code_obj, self.user_global_ns, self.user_ns)\u001b[0m\n",
      "\u001b[0m  Cell \u001b[1;32mIn[114], line 19\u001b[0m\n    del f.get_account_number\u001b[0m\n",
      "\u001b[0;36m  Cell \u001b[0;32mIn[114], line 17\u001b[0;36m in \u001b[0;35mget_account_number\u001b[0;36m\n\u001b[0;31m    raise Can_Not_Change_Account_Number(\"As it is immutable\")\u001b[0;36m\n",
      "\u001b[0;36m  File \u001b[0;32m<string>\u001b[0;36m\u001b[0m\n\u001b[0;31mCan_Not_Change_Account_Number\u001b[0m\u001b[0;31m:\u001b[0m As it is immutable\n"
     ]
    }
   ],
   "source": [
    "import random\n",
    "\n",
    "class Can_Not_Change_Account_Number(SyntaxError):\n",
    "    pass\n",
    "\n",
    "class Money:\n",
    "    def __init__(self,initial_balance) -> None:\n",
    "        self.__account_number = random.randrange(10**11, 10**12)\n",
    "        self.__balance = initial_balance\n",
    "    @property\n",
    "    def get_account_number(self):\n",
    "        return self.__account_number\n",
    "    \n",
    "    @get_account_number.setter\n",
    "    def get_account_number(self,num):\n",
    "        raise Can_Not_Change_Account_Number(\"As it is immutable\")\n",
    "    \n",
    "    @get_account_number.deleter\n",
    "    def get_account_number(self):\n",
    "        raise Can_Not_Change_Account_Number(\"As it is immutable\")\n",
    "    \n",
    "    @property\n",
    "    def get_balance(self):\n",
    "        return self.__balance\n",
    "    \n",
    "    @get_account_number.setter\n",
    "    def get_balance(self,num):\n",
    "        self.__balance = num\n",
    "    @get_account_number.deleter\n",
    "    def get_balance(self):\n",
    "        self.__balance = None\n",
    "f = Money(222)\n"
   ]
  },
  {
   "cell_type": "code",
   "execution_count": 132,
   "metadata": {},
   "outputs": [
    {
     "name": "stdout",
     "output_type": "stream",
     "text": [
      "{'__module__': '__main__', '__init__': <function Engine.__init__ at 0x10ab7d760>, 'get_status': <function Engine.get_status at 0x10ab7d800>, 'start': <function Engine.start at 0x10ab7d8a0>, 'stop': <function Engine.stop at 0x10ab7d940>, '__dict__': <attribute '__dict__' of 'Engine' objects>, '__weakref__': <attribute '__weakref__' of 'Engine' objects>, '__doc__': None}\n"
     ]
    }
   ],
   "source": [
    "class Tires:\n",
    "    def __init__(self,size) -> None:\n",
    "        self.__psi = 0\n",
    "        self.size = size\n",
    "    \n",
    "    def get_pressure(self):\n",
    "        return self.__psi\n",
    "    \n",
    "    def pump(self,psi):\n",
    "        self.__psi += psi\n",
    "\n",
    "\n",
    "class Engine:\n",
    "    def __init__(self,engine_type) -> None:\n",
    "        self.engine_type = engine_type\n",
    "        self.__state = \"OFF\"\n",
    "    \n",
    "    def get_status(self):\n",
    "        return self.__state\n",
    "    \n",
    "    def start(self):\n",
    "        self.__state = \"ON\"\n",
    "\n",
    "    def stop(self):\n",
    "        self.__state = \"OFF\"\n",
    "\n",
    "print(Engine.__dict__)"
   ]
  },
  {
   "cell_type": "code",
   "execution_count": 130,
   "metadata": {},
   "outputs": [
    {
     "name": "stdout",
     "output_type": "stream",
     "text": [
      "OG list of candies\n",
      "{'name': 'Lolly Pop', 'price': 0.4, 'weight': 133}\n",
      "{'name': 'Licorice', 'price': 0.1, 'weight': 251}\n",
      "{'name': 'Chocolate', 'price': 1, 'weight': 601}\n",
      "{'name': 'Sours', 'price': 0.01, 'weight': 513}\n",
      "{'name': 'Hard candies', 'price': 0.3, 'weight': 433}\n",
      "NEW list of candies\n",
      "{'name': 'Lolly Pop', 'price': 0.4, 'weight': 133}\n",
      "{'name': 'Licorice', 'price': 0.1, 'weight': 251}\n",
      "{'name': 'Chocolate', 'price': 0.8, 'weight': 601}\n",
      "{'name': 'Sours', 'price': 0.008, 'weight': 513}\n",
      "{'name': 'Hard candies', 'price': 0.24, 'weight': 433}\n"
     ]
    }
   ],
   "source": [
    "warehouse = [\n",
    "    {'name': 'Lolly Pop', 'price': 0.4, 'weight': 133},\n",
    "    {'name': 'Licorice', 'price': 0.1, 'weight': 251},\n",
    "    {'name': 'Chocolate', 'price': 1, 'weight': 601},\n",
    "    {'name': 'Sours', 'price': 0.01, 'weight': 513},\n",
    "    {'name': 'Hard candies', 'price': 0.3, 'weight': 433},\n",
    "]\n",
    "print('OG list of candies')\n",
    "for item in warehouse:\n",
    "    print(item)\n",
    "\n",
    "import copy\n",
    "\n",
    "\n",
    "wc = copy.deepcopy(warehouse)\n",
    "print('NEW list of candies')\n",
    "for w in wc:\n",
    "    if w[\"weight\"] > 300:\n",
    "        w[\"price\"] -= 0.20 * w[\"price\"]\n",
    "    print(w)"
   ]
  },
  {
   "cell_type": "code",
   "execution_count": 131,
   "metadata": {},
   "outputs": [],
   "source": [
    "import pickle\n",
    "\n",
    "a_dict = dict()\n",
    "a_dict['EUR'] = {'code':'Euro', 'symbol': '€'}\n",
    "a_dict['GBP'] = {'code':'Pounds sterling', 'symbol': '£'}\n",
    "a_dict['USD'] = {'code':'US dollar', 'symbol': '$'}\n",
    "a_dict['JPY'] = {'code':'Japanese yen', 'symbol': '¥'}\n",
    "\n",
    "a_list = ['a', 123, [10, 100, 1000]]\n",
    "\n",
    "with open('multidata.pckl', 'wb') as file_out:\n",
    "    pickle.dump(a_dict, file_out)\n",
    "    pickle.dump(a_list, file_out)\n"
   ]
  },
  {
   "cell_type": "code",
   "execution_count": 1,
   "metadata": {},
   "outputs": [
    {
     "name": "stdout",
     "output_type": "stream",
     "text": [
      "12\n",
      "24\n",
      "36\n"
     ]
    }
   ],
   "source": [
    "\n",
    "import tkinter as tk\n",
    "\n",
    "rome = tk.Tk()\n",
    "\n",
    "for i in range(1,4):\n",
    "    print(12 * i)\n",
    "    label = tk.Label(rome,text=\"Testing Testing!\",font=(\"Ariel\",str(12 * i),\"underline\"))\n",
    "    label.pack()\n",
    "\n",
    "button_2 = tk.Button(rome, text=\"Exceptional button\",bg=\"red\")\n",
    "button_2.pack()\n",
    "button_2[\"borderwidth\"] = 10\n",
    "button_2[\"highlightthickness\"] = 10\n",
    "button_2[\"padx\"] = 10\n",
    "button_2[\"pady\"] = 5\n",
    "button_2[\"underline\"] = 1\n",
    "rome.mainloop()"
   ]
  },
  {
   "cell_type": "code",
   "execution_count": 3,
   "metadata": {},
   "outputs": [
    {
     "name": "stdout",
     "output_type": "stream",
     "text": [
      "\n",
      ">>   AI-Benchmark-v.0.1.2   \n",
      ">>   Let the AI Games begin..\n",
      "\n"
     ]
    },
    {
     "ename": "AttributeError",
     "evalue": "module 'numpy' has no attribute 'warnings'",
     "output_type": "error",
     "traceback": [
      "\u001b[0;31m---------------------------------------------------------------------------\u001b[0m",
      "\u001b[0;31mAttributeError\u001b[0m                            Traceback (most recent call last)",
      "Cell \u001b[0;32mIn[3], line 1\u001b[0m\n\u001b[0;32m----> 1\u001b[0m get_ipython()\u001b[39m.\u001b[39;49mrun_cell_magic(\u001b[39m'\u001b[39;49m\u001b[39mtimeit\u001b[39;49m\u001b[39m'\u001b[39;49m, \u001b[39m'\u001b[39;49m\u001b[39m'\u001b[39;49m, \u001b[39m'\u001b[39;49m\u001b[39mfrom ai_benchmark import AIBenchmark\u001b[39;49m\u001b[39m\\n\u001b[39;49;00m\u001b[39mAIBenchmark().run()\u001b[39;49m\u001b[39m\\n\u001b[39;49;00m\u001b[39m'\u001b[39;49m)\n",
      "File \u001b[0;32m~/Library/Python/3.11/lib/python/site-packages/IPython/core/interactiveshell.py:2478\u001b[0m, in \u001b[0;36mInteractiveShell.run_cell_magic\u001b[0;34m(self, magic_name, line, cell)\u001b[0m\n\u001b[1;32m   2476\u001b[0m \u001b[39mwith\u001b[39;00m \u001b[39mself\u001b[39m\u001b[39m.\u001b[39mbuiltin_trap:\n\u001b[1;32m   2477\u001b[0m     args \u001b[39m=\u001b[39m (magic_arg_s, cell)\n\u001b[0;32m-> 2478\u001b[0m     result \u001b[39m=\u001b[39m fn(\u001b[39m*\u001b[39;49margs, \u001b[39m*\u001b[39;49m\u001b[39m*\u001b[39;49mkwargs)\n\u001b[1;32m   2480\u001b[0m \u001b[39m# The code below prevents the output from being displayed\u001b[39;00m\n\u001b[1;32m   2481\u001b[0m \u001b[39m# when using magics with decodator @output_can_be_silenced\u001b[39;00m\n\u001b[1;32m   2482\u001b[0m \u001b[39m# when the last Python token in the expression is a ';'.\u001b[39;00m\n\u001b[1;32m   2483\u001b[0m \u001b[39mif\u001b[39;00m \u001b[39mgetattr\u001b[39m(fn, magic\u001b[39m.\u001b[39mMAGIC_OUTPUT_CAN_BE_SILENCED, \u001b[39mFalse\u001b[39;00m):\n",
      "File \u001b[0;32m~/Library/Python/3.11/lib/python/site-packages/IPython/core/magics/execution.py:1170\u001b[0m, in \u001b[0;36mExecutionMagics.timeit\u001b[0;34m(self, line, cell, local_ns)\u001b[0m\n\u001b[1;32m   1168\u001b[0m \u001b[39mfor\u001b[39;00m index \u001b[39min\u001b[39;00m \u001b[39mrange\u001b[39m(\u001b[39m0\u001b[39m, \u001b[39m10\u001b[39m):\n\u001b[1;32m   1169\u001b[0m     number \u001b[39m=\u001b[39m \u001b[39m10\u001b[39m \u001b[39m*\u001b[39m\u001b[39m*\u001b[39m index\n\u001b[0;32m-> 1170\u001b[0m     time_number \u001b[39m=\u001b[39m timer\u001b[39m.\u001b[39;49mtimeit(number)\n\u001b[1;32m   1171\u001b[0m     \u001b[39mif\u001b[39;00m time_number \u001b[39m>\u001b[39m\u001b[39m=\u001b[39m \u001b[39m0.2\u001b[39m:\n\u001b[1;32m   1172\u001b[0m         \u001b[39mbreak\u001b[39;00m\n",
      "File \u001b[0;32m~/Library/Python/3.11/lib/python/site-packages/IPython/core/magics/execution.py:158\u001b[0m, in \u001b[0;36mTimer.timeit\u001b[0;34m(self, number)\u001b[0m\n\u001b[1;32m    156\u001b[0m gc\u001b[39m.\u001b[39mdisable()\n\u001b[1;32m    157\u001b[0m \u001b[39mtry\u001b[39;00m:\n\u001b[0;32m--> 158\u001b[0m     timing \u001b[39m=\u001b[39m \u001b[39mself\u001b[39;49m\u001b[39m.\u001b[39;49minner(it, \u001b[39mself\u001b[39;49m\u001b[39m.\u001b[39;49mtimer)\n\u001b[1;32m    159\u001b[0m \u001b[39mfinally\u001b[39;00m:\n\u001b[1;32m    160\u001b[0m     \u001b[39mif\u001b[39;00m gcold:\n",
      "File \u001b[0;32m<magic-timeit>:2\u001b[0m, in \u001b[0;36minner\u001b[0;34m(_it, _timer)\u001b[0m\n",
      "File \u001b[0;32m/Library/Frameworks/Python.framework/Versions/3.11/lib/python3.11/site-packages/ai_benchmark/__init__.py:18\u001b[0m, in \u001b[0;36mAIBenchmark.__init__\u001b[0;34m(self, use_CPU, verbose_level)\u001b[0m\n\u001b[1;32m     15\u001b[0m \u001b[39mif\u001b[39;00m verbose_level \u001b[39m>\u001b[39m \u001b[39m0\u001b[39m:\n\u001b[1;32m     16\u001b[0m     printIntro()\n\u001b[0;32m---> 18\u001b[0m np\u001b[39m.\u001b[39;49mwarnings\u001b[39m.\u001b[39mfilterwarnings(\u001b[39m'\u001b[39m\u001b[39mignore\u001b[39m\u001b[39m'\u001b[39m)\n\u001b[1;32m     20\u001b[0m \u001b[39mtry\u001b[39;00m:\n\u001b[1;32m     22\u001b[0m     \u001b[39mif\u001b[39;00m verbose_level \u001b[39m<\u001b[39m \u001b[39m3\u001b[39m:\n",
      "File \u001b[0;32m/Library/Frameworks/Python.framework/Versions/3.11/lib/python3.11/site-packages/numpy/__init__.py:322\u001b[0m, in \u001b[0;36m__getattr__\u001b[0;34m(attr)\u001b[0m\n\u001b[1;32m    319\u001b[0m     \u001b[39m\"\u001b[39m\u001b[39mRemoved in NumPy 1.25.0\u001b[39m\u001b[39m\"\u001b[39m\n\u001b[1;32m    320\u001b[0m     \u001b[39mraise\u001b[39;00m \u001b[39mRuntimeError\u001b[39;00m(\u001b[39m\"\u001b[39m\u001b[39mTester was removed in NumPy 1.25.\u001b[39m\u001b[39m\"\u001b[39m)\n\u001b[0;32m--> 322\u001b[0m \u001b[39mraise\u001b[39;00m \u001b[39mAttributeError\u001b[39;00m(\u001b[39m\"\u001b[39m\u001b[39mmodule \u001b[39m\u001b[39m{!r}\u001b[39;00m\u001b[39m has no attribute \u001b[39m\u001b[39m\"\u001b[39m\n\u001b[1;32m    323\u001b[0m                      \u001b[39m\"\u001b[39m\u001b[39m{!r}\u001b[39;00m\u001b[39m\"\u001b[39m\u001b[39m.\u001b[39mformat(\u001b[39m__name__\u001b[39m, attr))\n",
      "\u001b[0;31mAttributeError\u001b[0m: module 'numpy' has no attribute 'warnings'"
     ]
    }
   ],
   "source": [
    "%%timeit\n",
    "from ai_benchmark import AIBenchmark\n",
    "AIBenchmark().run()"
   ]
  }
 ],
 "metadata": {
  "kernelspec": {
   "display_name": "base",
   "language": "python",
   "name": "python3"
  },
  "language_info": {
   "codemirror_mode": {
    "name": "ipython",
    "version": 3
   },
   "file_extension": ".py",
   "mimetype": "text/x-python",
   "name": "python",
   "nbconvert_exporter": "python",
   "pygments_lexer": "ipython3",
   "version": "3.11.4"
  },
  "orig_nbformat": 4
 },
 "nbformat": 4,
 "nbformat_minor": 2
}
