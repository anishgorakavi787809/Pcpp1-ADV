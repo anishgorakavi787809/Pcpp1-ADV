{
 "cells": [
  {
   "cell_type": "code",
   "execution_count": 10,
   "metadata": {},
   "outputs": [
    {
     "name": "stdout",
     "output_type": "stream",
     "text": [
      "{'name': 'John', 'age': 30}\n",
      "30\n"
     ]
    }
   ],
   "source": [
    "import pickle\n",
    "class Serializer:\n",
    "    @staticmethod\n",
    "    def serialize(thing,file):\n",
    "        with open (file,\"wb\") as s:\n",
    "            pickle.dump(thing,s)\n",
    "    @staticmethod\n",
    "    def deserialize(file):\n",
    "        with open (file,\"rb\") as s:\n",
    "            return pickle.load(s)\n",
    "class Person:\n",
    "    def __init__(self, name, age):\n",
    "        self.name = name\n",
    "        self.age = age\n",
    "\n",
    "person = Person(\"John\", 30)\n",
    "\n",
    "# Serialize the object\n",
    "Serializer.serialize(person, \"person.pickle\")\n",
    "\n",
    "# Deserialize the object\n",
    "deserialized_person = Serializer.deserialize(\"person.pickle\")\n",
    "\n",
    "print(deserialized_person.__dict__)  # Output: John\n",
    "print(deserialized_person.age)   # Output: 30\n"
   ]
  },
  {
   "cell_type": "code",
   "execution_count": 8,
   "metadata": {},
   "outputs": [],
   "source": [
    "from typing import Literal\n",
    "\n",
    "\n",
    "class You_Are_Broke(ValueError):\n",
    "    pass\n",
    "\n",
    "class Account:\n",
    "    def __init__(self,account_number:int,balance:float) -> None:\n",
    "        self.account_number:int = account_number\n",
    "        self.balance:float = balance\n",
    "    \n",
    "    def deposit(self,amount:float):\n",
    "        self.balance += amount\n",
    "    def withdraw(self,amount:float):\n",
    "        self.balance -= amount\n",
    "\n",
    "class SavingsAccount(Account):\n",
    "    def __init__(self, account_number: int, balance: float,interest_rate:float,type:Literal[\"Simple\",\"Compound\"]) -> None:\n",
    "        super().__init__(account_number, balance)\n",
    "        self.interest_rate = interest_rate\n",
    "        self.type = type\n",
    "    def calculate_interest_rate(self,balance:float,interest_rate:float,type:Literal[\"Simple\",\"Compound\"],time_in_years:int) -> float:\n",
    "        if type == \"Simple\":\n",
    "            return balance * interest_rate * time_in_years\n",
    "        m = (balance + 1) ** time_in_years\n",
    "        m *= balance\n",
    "        return m - balance\n",
    "    def elapse_time(self,time_in_years):\n",
    "        self.balance += self.calculate_interest_rate(self.balance,self.interest_rate,self.type,time_in_years)\n",
    "    \n",
    "    def withdraw(self, amount: float):\n",
    "        if amount > self.balance:\n",
    "            raise You_Are_Broke(\"Your fu***** poor - Andrew tate\")\n",
    "        self.balance -= amount\n",
    "class CheckingAccount(Account):\n",
    "    def __init__(self, account_number: int, balance: float,fee:float) -> None:\n",
    "        super().__init__(account_number, balance)\n",
    "        self.fee = fee\n",
    "\n",
    "    def withdraw(self, amount: float):\n",
    "        if amount + self.fee > self.balance:\n",
    "            raise You_Are_Broke(\"Your fu***** poor - Andrew tate\")\n",
    "        self.balance -= amount + self.fee"
   ]
  },
  {
   "cell_type": "code",
   "execution_count": 14,
   "metadata": {},
   "outputs": [
    {
     "name": "stdout",
     "output_type": "stream",
     "text": [
      "False\n"
     ]
    }
   ],
   "source": [
    "d = {\"s\":\"3\"}\n",
    "\n",
    "print(\"sd\" in d)"
   ]
  }
 ],
 "metadata": {
  "kernelspec": {
   "display_name": "Python 3",
   "language": "python",
   "name": "python3"
  },
  "language_info": {
   "codemirror_mode": {
    "name": "ipython",
    "version": 3
   },
   "file_extension": ".py",
   "mimetype": "text/x-python",
   "name": "python",
   "nbconvert_exporter": "python",
   "pygments_lexer": "ipython3",
   "version": "3.11.4"
  },
  "orig_nbformat": 4
 },
 "nbformat": 4,
 "nbformat_minor": 2
}
